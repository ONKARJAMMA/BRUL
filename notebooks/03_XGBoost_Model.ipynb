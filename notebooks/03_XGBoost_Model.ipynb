{
 "cells": [
  {
   "cell_type": "code",
   "execution_count": 11,
   "metadata": {},
   "outputs": [
    {
     "name": "stdout",
     "output_type": "stream",
     "text": [
      "MAE: 29.634450912475586\n",
      "R²: 0.6255233287811279\n"
     ]
    },
    {
     "data": {
      "text/plain": [
       "['../models/xgb_rul_model.pkl']"
      ]
     },
     "execution_count": 11,
     "metadata": {},
     "output_type": "execute_result"
    }
   ],
   "source": [
    "import pandas as pd\n",
    "import xgboost as xgb\n",
    "from sklearn.model_selection import train_test_split\n",
    "from sklearn.metrics import mean_absolute_error, mean_squared_error, r2_score\n",
    "import joblib\n",
    "\n",
    "df = pd.read_csv('../data/processed_FD001.csv')\n",
    "features = [col for col in df.columns if 'sensor' in col or 'op_set' in col]\n",
    "X = df[features]\n",
    "y = df['RUL']\n",
    "\n",
    "X_train, X_test, y_train, y_test = train_test_split(X, y, test_size=0.2, random_state=42)\n",
    "\n",
    "model = xgb.XGBRegressor(n_estimators=100, max_depth=5, learning_rate=0.1)\n",
    "model.fit(X_train, y_train)\n",
    "\n",
    "y_pred = model.predict(X_test)\n",
    "print(\"MAE:\", mean_absolute_error(y_test, y_pred))\n",
    "# print(f\"RMSE:\", mean_squared_error(y_test, y_pred, squared=False))\n",
    "print(\"R²:\", r2_score(y_test, y_pred))\n",
    "\n",
    "joblib.dump(model, '../models/xgb_rul_model.pkl')\n"
   ]
  }
 ],
 "metadata": {
  "kernelspec": {
   "display_name": "Python 3",
   "language": "python",
   "name": "python3"
  },
  "language_info": {
   "codemirror_mode": {
    "name": "ipython",
    "version": 3
   },
   "file_extension": ".py",
   "mimetype": "text/x-python",
   "name": "python",
   "nbconvert_exporter": "python",
   "pygments_lexer": "ipython3",
   "version": "3.13.4"
  }
 },
 "nbformat": 4,
 "nbformat_minor": 2
}
